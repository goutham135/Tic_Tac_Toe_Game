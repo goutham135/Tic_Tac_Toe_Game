{
 "cells": [
  {
   "cell_type": "code",
   "execution_count": 1,
   "id": "4683cc66",
   "metadata": {},
   "outputs": [],
   "source": [
    "from IPython.display import clear_output\n",
    "\n",
    "def display_board(board):\n",
    "    clear_output()\n",
    "    print(board[1]+'|'+board[2]+'|'+board[3])\n",
    "    print(board[4]+'|'+board[5]+'|'+board[6])\n",
    "    print(board[7]+'|'+board[8]+'|'+board[9])"
   ]
  },
  {
   "cell_type": "code",
   "execution_count": 2,
   "id": "c916e242",
   "metadata": {},
   "outputs": [],
   "source": [
    "def player_input():\n",
    "    marker=''\n",
    "    while marker!='X' and marker!='O':\n",
    "       \n",
    "        marker=input('Player 1 choose X or O: ')\n",
    "    if marker=='X':\n",
    "        player1= 'X'\n",
    "        player2= 'O'\n",
    "    else:\n",
    "        player1= 'O'\n",
    "        player2= 'X'\n",
    "    return (player1, player2)"
   ]
  },
  {
   "cell_type": "code",
   "execution_count": 3,
   "id": "f253b68d",
   "metadata": {},
   "outputs": [],
   "source": [
    "def place_marker(board, marker, position):\n",
    "    board[position]=marker"
   ]
  },
  {
   "cell_type": "code",
   "execution_count": 4,
   "id": "3077c956",
   "metadata": {},
   "outputs": [],
   "source": [
    "def win_check(board, mark):\n",
    "    \n",
    "    if board[1]+board[2]+board[3]==mark*3:\n",
    "        return True\n",
    "    elif board[4]+board[5]+board[6]==mark*3:\n",
    "        return True\n",
    "    elif board[7]+board[8]+board[9]==mark*3:\n",
    "        return True\n",
    "    elif board[1]+board[4]+board[7]==mark*3:\n",
    "        return True\n",
    "    elif board[2]+board[5]+board[8]==mark*3:\n",
    "        return True\n",
    "    elif board[3]+board[6]+board[9]==mark*3:\n",
    "        return True\n",
    "    elif board[1]+board[5]+board[9]==mark*3:\n",
    "        return True\n",
    "    elif board[3]+board[5]+board[7]==mark*3:\n",
    "        return True\n",
    "    else:\n",
    "        return False\n",
    "        "
   ]
  },
  {
   "cell_type": "code",
   "execution_count": 5,
   "id": "2393f792",
   "metadata": {},
   "outputs": [],
   "source": [
    "import random\n",
    "\n",
    "def choose_first():\n",
    "    \n",
    "    if random.randint(0,1)==0:\n",
    "        return 'Player 2'\n",
    "    else:\n",
    "        return 'Player 1'"
   ]
  },
  {
   "cell_type": "code",
   "execution_count": 6,
   "id": "12e0252e",
   "metadata": {},
   "outputs": [],
   "source": [
    "def space_check(board, position):\n",
    "    return board[position]==' '"
   ]
  },
  {
   "cell_type": "code",
   "execution_count": 7,
   "id": "a2ac5a85",
   "metadata": {},
   "outputs": [],
   "source": [
    "def full_board_check(board):\n",
    "    for i in range(1,10):\n",
    "        if space_check(board, i):\n",
    "            return False\n",
    "    return True"
   ]
  },
  {
   "cell_type": "code",
   "execution_count": 8,
   "id": "cc459437",
   "metadata": {},
   "outputs": [],
   "source": [
    "def player_choice(board):\n",
    "    \n",
    "    choice='no'\n",
    "    accept=['1','2','3','4','5','6','7','8','9']\n",
    "    while not choice.isdigit() or choice not in accept or not space_check(board, choice):\n",
    "        choice = input('Enter a number between 1 and 9: ')\n",
    "        if choice in accept:\n",
    "            return int(choice)"
   ]
  },
  {
   "cell_type": "code",
   "execution_count": 9,
   "id": "2758bc97",
   "metadata": {},
   "outputs": [],
   "source": [
    "def replay():\n",
    "\n",
    "    choice=input('Do you want to play the game again? If yes then enter Y, if no then enter N: ')\n",
    "    return choice=='Y'"
   ]
  },
  {
   "cell_type": "code",
   "execution_count": 10,
   "id": "caae11c2",
   "metadata": {},
   "outputs": [
    {
     "name": "stdout",
     "output_type": "stream",
     "text": [
      "X|X|X\n",
      "X|O|O\n",
      "O| | \n",
      "Congratulations you have won the game.\n",
      "Do you want to play the game again? If yes then enter Y, if no then enter NN\n"
     ]
    }
   ],
   "source": [
    "print('Welcome to Tic Tac Toe!')\n",
    "\n",
    "while True:\n",
    "    # Set the game up here\n",
    "    board1=[' ']*10\n",
    "    player1_marker, player2_marker=player_input()\n",
    "    \n",
    "    turn=choose_first()\n",
    "    print(turn+' will go first')\n",
    "    \n",
    "    play_on=input('lets start the game? if yes then press y or else n ')\n",
    "    if play_on=='y':\n",
    "        game_on=True\n",
    "    else:\n",
    "        game_on=False\n",
    "    \n",
    "    while game_on:\n",
    "        #Player 1 Turn\n",
    "        if turn == \"Player 1\":\n",
    "            display_board(board1)\n",
    "            position=player_choice(board1)\n",
    "            place_marker(board1,player1_marker, position)\n",
    "            \n",
    "            if win_check(board1, player1_marker):\n",
    "                display_board(board1)\n",
    "                print('Congratulations you have won the game.')\n",
    "                game_on = False\n",
    "                \n",
    "            else:\n",
    "                \n",
    "                if full_board_check(board1):\n",
    "                    display_board(board1)\n",
    "                    print('The game is draw.')\n",
    "                    break\n",
    "                else:\n",
    "                    turn = 'Player 2'\n",
    "        \n",
    "        \n",
    "        \n",
    "        else:\n",
    "            display_board(board1)\n",
    "            position=player_choice(board1)\n",
    "            place_marker(board1, player2_marker, position)\n",
    "            \n",
    "            if win_check(board1, player2_marker):\n",
    "                display_board(board1)\n",
    "                print('Congratulations you have won the game.')\n",
    "                game_on = False\n",
    "                \n",
    "            else:\n",
    "                if full_board_check(board1):\n",
    "                    display_board(board1)\n",
    "                    print('The game is draw.')\n",
    "                    break\n",
    "                else:\n",
    "                    turn = 'Player 1'\n",
    "            \n",
    "            \n",
    "            #pass\n",
    "\n",
    "    if not replay():\n",
    "        break"
   ]
  },
  {
   "cell_type": "code",
   "execution_count": null,
   "id": "09b662bb",
   "metadata": {},
   "outputs": [],
   "source": []
  }
 ],
 "metadata": {
  "kernelspec": {
   "display_name": "Python 3",
   "language": "python",
   "name": "python3"
  },
  "language_info": {
   "codemirror_mode": {
    "name": "ipython",
    "version": 3
   },
   "file_extension": ".py",
   "mimetype": "text/x-python",
   "name": "python",
   "nbconvert_exporter": "python",
   "pygments_lexer": "ipython3",
   "version": "3.8.8"
  }
 },
 "nbformat": 4,
 "nbformat_minor": 5
}
